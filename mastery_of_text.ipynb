{
 "cells": [
  {
   "cell_type": "code",
   "execution_count": 107,
   "id": "d95fb64a-f9c1-488e-8a86-4f01bc10315a",
   "metadata": {},
   "outputs": [],
   "source": [
    "import urllib.request\n",
    "\n",
    "url =  \"https://www.gutenberg.org/cache/epub/10/pg10.txt\"\n",
    "with urllib.request.urlopen(url) as response:\n",
    "    pg10 = response.read().decode('utf-8')"
   ]
  },
  {
   "cell_type": "code",
   "execution_count": 108,
   "id": "ffa6513c-3ca4-4f01-b013-1b50f7687912",
   "metadata": {},
   "outputs": [
    {
     "name": "stdout",
     "output_type": "stream",
     "text": [
      "Number of lines: 99968\n"
     ]
    }
   ],
   "source": [
    "lines = pg10.splitlines()\n",
    "num_lines = len(lines)\n",
    "print(\"Number of lines:\", num_lines)"
   ]
  },
  {
   "cell_type": "code",
   "execution_count": 109,
   "id": "3327a0c5-104b-4b2e-8669-0d7be0626100",
   "metadata": {},
   "outputs": [
    {
     "name": "stdout",
     "output_type": "stream",
     "text": [
      "Number of words: 795227\n"
     ]
    }
   ],
   "source": [
    "words = []\n",
    "word = \"\"\n",
    "for char in pg10:\n",
    "    if char.isalpha():\n",
    "        word = word + char\n",
    "    elif word != \"\":\n",
    "        words.append(word)\n",
    "        word = \"\"\n",
    "        \n",
    "if word != \"\":\n",
    "    words.append(word)\n",
    "\n",
    "word_count = len(words)\n",
    "print(\"Number of words:\", word_count)"
   ]
  },
  {
   "cell_type": "code",
   "execution_count": 110,
   "id": "4ea7d512-ab5f-41c5-98b4-92c4e5ad28e4",
   "metadata": {},
   "outputs": [
    {
     "name": "stdout",
     "output_type": "stream",
     "text": [
      "\"Apostle\" count: 47\n"
     ]
    }
   ],
   "source": [
    "lowercase = []\n",
    "for word in words:\n",
    "    lowercase.append(word.lower())\n",
    "    \n",
    "apostle = lowercase.count(\"apostle\")\n",
    "print('\"Apostle\" count:', apostle)"
   ]
  },
  {
   "cell_type": "code",
   "execution_count": 111,
   "id": "5d045de2-f1db-4a1d-9385-cc1bbf5080ed",
   "metadata": {},
   "outputs": [
    {
     "name": "stdout",
     "output_type": "stream",
     "text": [
      "Most common word: the\n"
     ]
    }
   ],
   "source": [
    "freq = {}\n",
    "\n",
    "for word in lowercase:\n",
    "    if word in freq:\n",
    "        freq[word] += 1\n",
    "    else:\n",
    "        freq[word] = 1\n",
    "\n",
    "most_common_word = None\n",
    "most_common_count = 0\n",
    "\n",
    "for word, count in freq.items():\n",
    "    if count > most_common_count:\n",
    "        most_common_word = word\n",
    "        most_common_count = count\n",
    "\n",
    "print('Most common word:', most_common_word)"
   ]
  }
 ],
 "metadata": {
  "kernelspec": {
   "display_name": "Python [conda env:base] *",
   "language": "python",
   "name": "conda-base-py"
  },
  "language_info": {
   "codemirror_mode": {
    "name": "ipython",
    "version": 3
   },
   "file_extension": ".py",
   "mimetype": "text/x-python",
   "name": "python",
   "nbconvert_exporter": "python",
   "pygments_lexer": "ipython3",
   "version": "3.12.7"
  }
 },
 "nbformat": 4,
 "nbformat_minor": 5
}
